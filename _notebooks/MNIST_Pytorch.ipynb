{
 "cells": [
  {
   "cell_type": "markdown",
   "metadata": {},
   "source": [
    "# MNIST dataset - NN example(Pytorch)\n",
    "> A tutorial of gradient descent from scratch using pytorch \n",
    "\n",
    "- toc: true \n",
    "- badges: true\n",
    "- comments: true\n",
    "- categories: [jupyter]\n",
    "- image: images/MNIST.png"
   ]
  },
  {
   "cell_type": "code",
   "execution_count": 185,
   "metadata": {},
   "outputs": [],
   "source": [
    "import torch\n",
    "import torchvision\n",
    "from torchvision.datasets import MNIST\n",
    "from torchvision.transforms import transforms\n",
    "import matplotlib.pyplot as plt\n",
    "from torch.utils.data import random_split\n",
    "from torch.utils.data import DataLoader\n",
    "import torch.nn as nn\n",
    "import torch.nn.functional as F\n"
   ]
  },
  {
   "cell_type": "code",
   "execution_count": 8,
   "metadata": {},
   "outputs": [
    {
     "data": {
      "text/plain": [
       "(torch.Tensor, int, torch.Size([1, 28, 28]))"
      ]
     },
     "execution_count": 8,
     "metadata": {},
     "output_type": "execute_result"
    }
   ],
   "source": [
    "#collapse- output\n",
    "# this line of code will download the images(60000) in the defined root folder\n",
    "# download = True - when ran once will nor re-download all the images if it finds the images in the root path\n",
    "# train = True means it is the training set\n",
    "dataset = MNIST(root='Deep_Learning_Explorations/data/',train = True, download=True,transform=transforms.ToTensor())\n",
    "\n",
    "# Dataset is a tuple of image and the label\n",
    "# indexing the dataset will show us that\n",
    "# shape of thwe image is 1*28*28\n",
    "# 28 * 28 are the pixel values ranging from values 0 to 1\n",
    "# this image has a just one channel as it is  a gray scale image\n",
    "type(dataset[0][0]), type(dataset[0][1]), dataset[0][0].shape"
   ]
  },
  {
   "cell_type": "code",
   "execution_count": 7,
   "metadata": {},
   "outputs": [
    {
     "data": {
      "image/png": "[encoded data removed]",
      "text/plain": [
       "<Figure size 432x288 with 1 Axes>"
      ]
     },
     "metadata": {
      "needs_background": "light"
     },
     "output_type": "display_data"
    }
   ],
   "source": [
    "plt.imshow(dataset[0][0], cmap = 'gray');"
   ]
  },
  {
   "cell_type": "markdown",
   "metadata": {},
   "source": [
    "## Split Dataset - Training and Validation"
   ]
  },
  {
   "cell_type": "code",
   "execution_count": 9,
   "metadata": {},
   "outputs": [
    {
     "data": {
      "text/plain": [
       "(50000, 10000)"
      ]
     },
     "execution_count": 9,
     "metadata": {},
     "output_type": "execute_result"
    }
   ],
   "source": [
    "#collapse-output\n",
    "# Split the dataset into a training and the validation set\n",
    "tr_data, val_data = random_split(dataset,[50000,10000])\n",
    "len(tr_data), len(val_data)"
   ]
  },
  {
   "cell_type": "markdown",
   "metadata": {},
   "source": [
    "## Training and Validation Dataloader"
   ]
  },
  {
   "cell_type": "code",
   "execution_count": 10,
   "metadata": {},
   "outputs": [],
   "source": [
    "# Create dataloaders\n",
    "# Dataloader helps in converting the dataset into batches of data by describing the batch_size\n",
    "tr_loader = DataLoader(tr_data,batch_size=200,shuffle=True)\n",
    "val_loader = DataLoader(val_data,batch_size=200)"
   ]
  },
  {
   "cell_type": "code",
   "execution_count": 11,
   "metadata": {},
   "outputs": [
    {
     "name": "stdout",
     "output_type": "stream",
     "text": [
      "torch.Size([200, 1, 28, 28])\n",
      "200\n"
     ]
    }
   ],
   "source": [
    "#collapse-output\n",
    "# We can see that the data is a batch of 128 images and 120 labels\n",
    "for data,label in tr_loader:\n",
    "    print(data.shape)\n",
    "    print(len(label))\n",
    "    break"
   ]
  },
  {
   "cell_type": "code",
   "execution_count": 12,
   "metadata": {},
   "outputs": [
    {
     "data": {
      "text/plain": [
       "(torch.Size([10, 784]), torch.Size([10]))"
      ]
     },
     "execution_count": 12,
     "metadata": {},
     "output_type": "execute_result"
    }
   ],
   "source": [
    "#collapse-output\n",
    "# x@w.t()+ bias - Use the same equation\n",
    "model = nn.Linear(in_features= 784,out_features=10)\n",
    "\n",
    "# A model will randomly initialize the parameters(wt's and biases)\n",
    "model.weight.shape, model.bias.shape"
   ]
  },
  {
   "cell_type": "code",
   "execution_count": 13,
   "metadata": {},
   "outputs": [
    {
     "name": "stdout",
     "output_type": "stream",
     "text": [
      "torch.Size([200, 1, 28, 28])\n",
      "torch.Size([200, 784])\n",
      "torch.Size([200, 10])\n"
     ]
    }
   ],
   "source": [
    "#collapse-output\n",
    "for img,label in tr_loader:\n",
    "    # shape of the batch in the beggining\n",
    "    print(img.shape)\n",
    "    #this functionality can be added inside the model in the forward method\n",
    "    img = img.reshape(-1,28*28)\n",
    "    # shape after reshaping into a vector of 784 elements\n",
    "    print(img.shape)\n",
    "    # applying the model to the reshaped img\n",
    "    pred = model(img)\n",
    "    print(model(img).shape)\n",
    "    # As we can see that the model has outputted 10 probabilities which is a prob for all elements from 0-9\n",
    "    break"
   ]
  },
  {
   "cell_type": "code",
   "execution_count": 14,
   "metadata": {},
   "outputs": [
    {
     "name": "stdout",
     "output_type": "stream",
     "text": [
      "tensor([[-0.1780, -0.2030, -0.1832,  ..., -0.0791,  0.1601, -0.0289],\n",
      "        [-0.0835, -0.3761, -0.2121,  ..., -0.2008, -0.2714, -0.2222],\n",
      "        [-0.0419, -0.1072, -0.0031,  ..., -0.1503,  0.0071, -0.1969],\n",
      "        ...,\n",
      "        [-0.1106, -0.1116,  0.1379,  ..., -0.0675, -0.0677,  0.0206],\n",
      "        [-0.0918, -0.1213, -0.0014,  ..., -0.1266,  0.1137,  0.3449],\n",
      "        [-0.2163,  0.0296,  0.0380,  ..., -0.0783, -0.1645, -0.1849]],\n",
      "       grad_fn=<AddmmBackward0>)\n"
     ]
    },
    {
     "data": {
      "text/plain": [
       "torch.Size([200, 10])"
      ]
     },
     "execution_count": 14,
     "metadata": {},
     "output_type": "execute_result"
    }
   ],
   "source": [
    "#collapse-output\n",
    "print(pred)\n",
    "pred.shape"
   ]
  },
  {
   "cell_type": "markdown",
   "metadata": {},
   "source": [
    "## Additional functionality to our NN model\n",
    "\n",
    "To add additional functionality to the NN model we need to create a MnistModel class and inheret the nn.Module. \n",
    "Addiditional functionality in this is the step of reshaping the batch of data passing through the model to a vector of 784 pixels"
   ]
  },
  {
   "cell_type": "code",
   "execution_count": 19,
   "metadata": {},
   "outputs": [],
   "source": [
    "# Add additional functionality to the NN model\n",
    "\n",
    "class MnistModel(nn.Module):\n",
    "    def __init__(self):\n",
    "        super().__init__()\n",
    "        self.linear = nn.Linear(784, 10)\n",
    "        \n",
    "    def forward(self, xb):\n",
    "        xb = xb.reshape(-1, 784)\n",
    "        out = self.linear(xb)\n",
    "        return out\n",
    "    \n",
    "model = MNIST()"
   ]
  },
  {
   "cell_type": "code",
   "execution_count": 20,
   "metadata": {},
   "outputs": [
    {
     "data": {
      "text/plain": [
       "(torch.Size([10, 784]), torch.Size([10]))"
      ]
     },
     "execution_count": 20,
     "metadata": {},
     "output_type": "execute_result"
    }
   ],
   "source": [
    "# shape of wts and bias\n",
    "model.layer.weight.shape, model.layer.bias.shape"
   ]
  },
  {
   "cell_type": "markdown",
   "metadata": {},
   "source": [
    "## Sofmax\n",
    "\n",
    "Softmax converts a vector of K real numbers into a probability distribution of K possible outcomes\n",
    "\n",
    "It is basically calculated by taking the exponent of preds and dividing by their sum to make sure its sum is 1\n"
   ]
  },
  {
   "cell_type": "code",
   "execution_count": 21,
   "metadata": {},
   "outputs": [
    {
     "name": "stdout",
     "output_type": "stream",
     "text": [
      "torch.Size([200, 10])\n",
      "torch.Size([200])\n"
     ]
    },
    {
     "name": "stderr",
     "output_type": "stream",
     "text": [
      "/var/folders/j4/0sh22ln930vdhyh1wkttl89m0000gp/T/ipykernel_24095/3939508011.py:9: UserWarning: Implicit dimension choice for softmax has been deprecated. Change the call to include dim=X as an argument.\n",
      "  torch.sum(F.softmax(pred[0])).item()\n"
     ]
    },
    {
     "data": {
      "text/plain": [
       "(torch.Size([200]), torch.Size([200]))"
      ]
     },
     "execution_count": 21,
     "metadata": {},
     "output_type": "execute_result"
    }
   ],
   "source": [
    "# We can see that the model from the above class works\n",
    "for dta,label in tr_loader:\n",
    "    pred = model(dta)\n",
    "    print(pred.shape)\n",
    "    print(label.shape)\n",
    "    break\n",
    "\n",
    "# We will apply softmax now - which converts the probability b/w 0 and 1 and the sum is 1\n",
    "torch.sum(F.softmax(pred[0])).item()\n",
    "\n",
    "# Applying softmax on the whole batch\n",
    "pred_s = F.softmax(pred,dim=1)\n",
    "\n",
    "# torch amx function gives us the index of the max probability as well as the probability\n",
    "index_prob,prob = torch.max(pred_s,dim=1)\n",
    "\n",
    "index_prob.shape,prob.shape"
   ]
  },
  {
   "cell_type": "markdown",
   "metadata": {},
   "source": [
    "## Accuracy\n",
    "\n",
    "The predictions are converted into probabilities and the highest probability is calculated using the max function\n",
    "\n",
    "The index of the highest probability is then compared to the actual label and the accuracy % is calculated by divding the correct predictions with the total images\n"
   ]
  },
  {
   "cell_type": "code",
   "execution_count": 174,
   "metadata": {},
   "outputs": [
    {
     "data": {
      "text/plain": [
       "tensor(0.0700)"
      ]
     },
     "execution_count": 174,
     "metadata": {},
     "output_type": "execute_result"
    }
   ],
   "source": [
    "def metric_acc(out,label):\n",
    "    index_prob,prob = torch.max(pred_s,dim=1)\n",
    "    return torch.sum(prob==label)/prob.numel()\n",
    "\n",
    "# We will get the same value even if we do not apply the softmax as\n",
    "# e^x is an increasing function, i.e., if y1 > y2, then e^y1 > e^y2. The same holds after averaging out the values to get the softmax.\n",
    "metric_acc(prob,label)\n"
   ]
  },
  {
   "cell_type": "code",
   "execution_count": 175,
   "metadata": {},
   "outputs": [
    {
     "name": "stdout",
     "output_type": "stream",
     "text": [
      "tensor(2.3289, grad_fn=<NllLossBackward0>)\n"
     ]
    }
   ],
   "source": [
    "# cross entropy -ve log of predicted prob\n",
    "# loss function will be cross_entropy\n",
    "loss = F.cross_entropy(pred, label)\n",
    "print(loss)"
   ]
  },
  {
   "cell_type": "markdown",
   "metadata": {},
   "source": [
    "## Model Training\n",
    "\n",
    "This fit function is the training step. This training step invovles training the model on the training dataloader, calculating the loss, calculating the gradient for the\n",
    "train loader and updating the weights and reseting the gradient at the end.\n",
    "\n",
    "For the second part of the loop - we validate the model on the validation dataloader. The steps include calculating the loss and accuracy after each epoch and printing them at\n",
    "the end. We can notice that the loss and the accuracy on the validation set improves after each epoch\n"
   ]
  },
  {
   "cell_type": "code",
   "execution_count": 249,
   "metadata": {},
   "outputs": [],
   "source": [
    "def fit(epochs,learning_rate,model,train_loader,val_loader,opt_func=torch.optim.SGD):\n",
    "    optimizer = torch.optim.SGD(model.parameters(), lr= learning_rate , momentum=0.9)\n",
    "    out_lst = []\n",
    "    for epoch in range(epochs):\n",
    "        \n",
    "        # Training step on the training dataloader\n",
    "        for batch in tr_loader:\n",
    "            #extract batch of images and label\n",
    "            img,label = batch\n",
    "            #calculate prediction using the MNISTMODEL class initialized above\n",
    "            pred = model(img)\n",
    "            #Since this is a multi-label image classification model- the loss function is cross entropy\n",
    "            loss = F.cross_entropy(pred,label)\n",
    "            # In this step we calculate the gradient of the loss function with respect to the parameters or 784 pixels in this case\n",
    "            loss.backward()\n",
    "            # In this step we update the weights\n",
    "            optimizer.step()\n",
    "            # We make the gradient zero again so that now the gradients are not calculated untill the training is not done\n",
    "            optimizer.zero_grad()\n",
    "         \n",
    "        # Validation on the validation dataloader   \n",
    "        for batch_val in val_loader:\n",
    "            img_val,label_val = batch_val\n",
    "            pred_val = model(img_val)\n",
    "            # loss is computed\n",
    "            loss_val = F.cross_entropy(pred_val,label_val)\n",
    "            # Accuracy is computed\n",
    "            acc_val = metric_acc(pred_val,label_val)\n",
    "            out_lst.append({'Epoch':epoch,'val_loss': loss_val, 'val_acc': acc_val})\n",
    "        \n",
    "        # Accuracies and loss are stacked together for each epoch, mean is calculated and the results are printed    \n",
    "        val_loss_epoch = torch.stack([dct['val_loss'] for dct in out_lst]).mean()\n",
    "        val_acc_epoch = torch.stack([dct['val_acc'] for dct in out_lst]).mean()                  \n",
    "        print('Epoch: {0}, loss: {1}, accuracy_val: {2}'.format(epoch,val_loss_epoch,val_acc_epoch))\n",
    "\n",
    "model = MnistModel()"
   ]
  },
  {
   "cell_type": "markdown",
   "metadata": {},
   "source": [
    "We can clearly see that with each epoch the loss and accuracies improve.\n",
    "You can try to use different number of epochs and learning rate to see if you can improve the accuracy"
   ]
  },
  {
   "cell_type": "code",
   "execution_count": 250,
   "metadata": {},
   "outputs": [
    {
     "name": "stdout",
     "output_type": "stream",
     "text": [
      "Epoch: 0, loss: 0.5632244348526001, accuracy_val: 0.861500084400177\n",
      "Epoch: 1, loss: 0.5117447376251221, accuracy_val: 0.8712499737739563\n",
      "Epoch: 2, loss: 0.4806540310382843, accuracy_val: 0.8765000700950623\n",
      "Epoch: 3, loss: 0.45891621708869934, accuracy_val: 0.8803249597549438\n",
      "Epoch: 4, loss: 0.44262486696243286, accuracy_val: 0.8833799362182617\n",
      "Epoch: 5, loss: 0.4297642111778259, accuracy_val: 0.885816752910614\n",
      "Epoch: 6, loss: 0.4192468225955963, accuracy_val: 0.8878857493400574\n",
      "Epoch: 7, loss: 0.41042187809944153, accuracy_val: 0.889549970626831\n",
      "Epoch: 8, loss: 0.4029468595981598, accuracy_val: 0.891033411026001\n",
      "Epoch: 9, loss: 0.3964667320251465, accuracy_val: 0.8922899961471558\n",
      "Epoch: 10, loss: 0.3907521069049835, accuracy_val: 0.8933908939361572\n",
      "Epoch: 11, loss: 0.385611355304718, accuracy_val: 0.8943833708763123\n",
      "Epoch: 12, loss: 0.38104525208473206, accuracy_val: 0.8952845931053162\n",
      "Epoch: 13, loss: 0.37690234184265137, accuracy_val: 0.8960857391357422\n",
      "Epoch: 14, loss: 0.37316834926605225, accuracy_val: 0.8968601226806641\n",
      "Epoch: 15, loss: 0.3697192370891571, accuracy_val: 0.8975686430931091\n",
      "Epoch: 16, loss: 0.36654046177864075, accuracy_val: 0.8981589078903198\n",
      "Epoch: 17, loss: 0.3636338710784912, accuracy_val: 0.8987833857536316\n",
      "Epoch: 18, loss: 0.3609280586242676, accuracy_val: 0.8993525505065918\n",
      "Epoch: 19, loss: 0.35844382643699646, accuracy_val: 0.899869978427887\n"
     ]
    }
   ],
   "source": [
    "#collapse-output\n",
    "fit(20,learning_rate=0.005,model= model,train_loader = tr_loader,val_loader = val_loader)"
   ]
  },
  {
   "cell_type": "markdown",
   "metadata": {},
   "source": [
    "## Testing on the test set"
   ]
  },
  {
   "cell_type": "code",
   "execution_count": 251,
   "metadata": {},
   "outputs": [],
   "source": [
    "img_test = MNIST(root='Deep_Learning_Explorations/data/',train = False,transform=transforms.ToTensor())"
   ]
  },
  {
   "cell_type": "code",
   "execution_count": 252,
   "metadata": {},
   "outputs": [
    {
     "name": "stdout",
     "output_type": "stream",
     "text": [
      "Shape: torch.Size([1, 28, 28])\n",
      "Label: 9\n"
     ]
    },
    {
     "data": {
      "image/png": "[encoded data removed]",
      "text/plain": [
       "<Figure size 432x288 with 1 Axes>"
      ]
     },
     "metadata": {
      "needs_background": "light"
     },
     "output_type": "display_data"
    }
   ],
   "source": [
    "# We can plot the gray scale image using matplotlib and specifying cmap = gray\n",
    "# gray scale has just 1 channnel\n",
    "# 1*28*28, 1 here specifies that image has just one channel\n",
    "img, label = img_test[12]\n",
    "plt.imshow(img[0], cmap='gray')\n",
    "print('Shape:', img.shape)\n",
    "print('Label:', label)"
   ]
  },
  {
   "cell_type": "markdown",
   "metadata": {},
   "source": [
    "## Prediction Function on the test set"
   ]
  },
  {
   "cell_type": "code",
   "execution_count": 253,
   "metadata": {},
   "outputs": [],
   "source": [
    "def pred_function(img,model):\n",
    "    img.shape\n",
    "    inp = img.unsqueeze(0)\n",
    "    out = model(inp)\n",
    "    prob , preds = torch.max(out,dim=1)\n",
    "    return preds[0].item()"
   ]
  },
  {
   "cell_type": "code",
   "execution_count": 256,
   "metadata": {},
   "outputs": [
    {
     "name": "stdout",
     "output_type": "stream",
     "text": [
      "Label: 3 , Predicted: 3\n"
     ]
    },
    {
     "data": {
      "image/png": "[encoded data removed]",
      "text/plain": [
       "<Figure size 432x288 with 1 Axes>"
      ]
     },
     "metadata": {
      "needs_background": "light"
     },
     "output_type": "display_data"
    }
   ],
   "source": [
    "img, label = img_test[200]\n",
    "plt.imshow(img[0], cmap='gray')\n",
    "print('Label:', label, ', Predicted:', pred_function(img, model))"
   ]
  },
  {
   "cell_type": "code",
   "execution_count": 255,
   "metadata": {},
   "outputs": [
    {
     "name": "stdout",
     "output_type": "stream",
     "text": [
      "Label: 6 , Predicted: 6\n"
     ]
    },
    {
     "data": {
      "image/png": "[encoded data removed]",
      "text/plain": [
       "<Figure size 432x288 with 1 Axes>"
      ]
     },
     "metadata": {
      "needs_background": "light"
     },
     "output_type": "display_data"
    }
   ],
   "source": [
    "img, label = img_test[123]\n",
    "plt.imshow(img[0], cmap='gray')\n",
    "print('Label:', label, ', Predicted:', pred_function(img, model))"
   ]
  },
  {
   "cell_type": "markdown",
   "metadata": {},
   "source": [
    "## Testing on all images - the test set"
   ]
  },
  {
   "cell_type": "code",
   "execution_count": 284,
   "metadata": {},
   "outputs": [],
   "source": [
    "# define the test set\n",
    "test_loader = DataLoader(img_test, batch_size=20)\n",
    "\n",
    "# pass the batches to the model and calculate model accuracy and loss\n",
    "def test_set_preds(test_loader,model):\n",
    "    out_lst = []\n",
    "    for i, batch_val in enumerate(test_loader):\n",
    "            img_val,label_val = batch_val\n",
    "            pred_val = model(img_val)\n",
    "            # loss is computed for that batch\n",
    "            loss_val = F.cross_entropy(pred_val,label_val)\n",
    "            # Accuracy is computed for that batch\n",
    "            acc_val = metric_acc(pred_val,label_val)\n",
    "            out_lst.append({'val_loss': loss_val, 'val_acc': acc_val})     \n",
    "    #Accuracies and loss are stacked together for each epoch, mean is calculated and the results are printed    \n",
    "    final_loss = torch.stack([dct['val_loss'] for dct in out_lst]).mean()\n",
    "    final_acc= torch.stack([dct['val_acc'] for dct in out_lst]).mean()             \n",
    "    return 'loss: {0}, accuracy_val: {1}'.format(final_loss,final_acc)"
   ]
  },
  {
   "cell_type": "code",
   "execution_count": 285,
   "metadata": {},
   "outputs": [
    {
     "data": {
      "text/plain": [
       "'loss: 0.297660231590271, accuracy_val: 0.9175999164581299'"
      ]
     },
     "execution_count": 285,
     "metadata": {},
     "output_type": "execute_result"
    }
   ],
   "source": [
    "test_set_preds(test_loader,model)"
   ]
  }
 ],
 "metadata": {
  "kernelspec": {
   "display_name": "Python 3.9.12 ('base')",
   "language": "python",
   "name": "python3"
  },
  "language_info": {
   "codemirror_mode": {
    "name": "ipython",
    "version": 3
   },
   "file_extension": ".py",
   "mimetype": "text/x-python",
   "name": "python",
   "nbconvert_exporter": "python",
   "pygments_lexer": "ipython3",
   "version": "3.9.12"
  },
  "orig_nbformat": 4,
  "vscode": {
   "interpreter": {
    "hash": "6338af0e41d49d4a98e031440c1e6ba1901a7edf2fea4c64b6b2d7a0b97a576b"
   }
  }
 },
 "nbformat": 4,
 "nbformat_minor": 2
}
